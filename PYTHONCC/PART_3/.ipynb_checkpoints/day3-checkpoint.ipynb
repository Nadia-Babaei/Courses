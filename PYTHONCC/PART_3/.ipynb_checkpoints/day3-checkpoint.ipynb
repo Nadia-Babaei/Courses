{
 "cells": [
  {
   "cell_type": "markdown",
   "id": "eb4051c3",
   "metadata": {},
   "source": [
    "# try exception block"
   ]
  },
  {
   "cell_type": "markdown",
   "id": "62f5d930",
   "metadata": {},
   "source": [
    "check possible errors with assert \n",
    "\n",
    "``` python\n",
    "assert(condition)\n",
    "    \n"
   ]
  },
  {
   "cell_type": "code",
   "execution_count": 1,
   "id": "e6a319e6",
   "metadata": {},
   "outputs": [
    {
     "name": "stdout",
     "output_type": "stream",
     "text": [
      "Congs your OS is Linux.\n"
     ]
    }
   ],
   "source": [
    "import sys\n",
    "\n",
    "def linux_interaction():\n",
    "    assert ('linux' in sys.platform),  \"Function can only run on Linux systems.\"\n",
    "    print('Congs your OS is Linux.')\n",
    "    \n",
    "    \n",
    "try:\n",
    "    linux_interaction()\n",
    "except AssertionError as error:\n",
    "    print(error)\n",
    "    print('The linux_interaction() function was not executed')\n",
    "\n"
   ]
  },
  {
   "cell_type": "code",
   "execution_count": 5,
   "id": "a24f76ab",
   "metadata": {},
   "outputs": [
    {
     "name": "stdout",
     "output_type": "stream",
     "text": [
      "Function can only run on windows systems.\n",
      "The windows_interaction() function was not executed\n"
     ]
    }
   ],
   "source": [
    "import sys\n",
    "\n",
    "def windows_interaction():\n",
    "    assert ('windows' in sys.platform),  \"Function can only run on windows systems.\"\n",
    "    print('Congs your OS is windows.')\n",
    "    \n",
    "    \n",
    "try:\n",
    "    windows_interaction()\n",
    "except AssertionError as error:\n",
    "    print(error)\n",
    "    print('The windows_interaction() function was not executed')"
   ]
  },
  {
   "cell_type": "markdown",
   "id": "1d583d2f",
   "metadata": {},
   "source": [
    "## raise"
   ]
  },
  {
   "cell_type": "code",
   "execution_count": 8,
   "id": "02ce77dd",
   "metadata": {},
   "outputs": [
    {
     "name": "stdout",
     "output_type": "stream",
     "text": [
      "new line after error\n"
     ]
    }
   ],
   "source": [
    "x = 1\n",
    "if x > 5:\n",
    "    raise Exception('x should not exceed 5. The value of x was: {}'.format(x))\n",
    "    \n",
    "print(\"new line after raise\")"
   ]
  },
  {
   "cell_type": "code",
   "execution_count": null,
   "id": "1920676f",
   "metadata": {},
   "outputs": [],
   "source": []
  }
 ],
 "metadata": {
  "kernelspec": {
   "display_name": "Python 3 (ipykernel)",
   "language": "python",
   "name": "python3"
  },
  "language_info": {
   "codemirror_mode": {
    "name": "ipython",
    "version": 3
   },
   "file_extension": ".py",
   "mimetype": "text/x-python",
   "name": "python",
   "nbconvert_exporter": "python",
   "pygments_lexer": "ipython3",
   "version": "3.10.2"
  }
 },
 "nbformat": 4,
 "nbformat_minor": 5
}
