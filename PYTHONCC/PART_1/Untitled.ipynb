{
 "cells": [
  {
   "cell_type": "markdown",
   "id": "beea552e",
   "metadata": {},
   "source": [
    "# Lesson_1\n",
    "This is my first markdown"
   ]
  },
  {
   "cell_type": "code",
   "execution_count": 1,
   "id": "a181e28e",
   "metadata": {},
   "outputs": [],
   "source": [
    "var1 = ['test', 2]"
   ]
  },
  {
   "cell_type": "markdown",
   "id": "64cf03b2",
   "metadata": {},
   "source": [
    "## part_1\n",
    "Here I am using list"
   ]
  },
  {
   "cell_type": "code",
   "execution_count": 2,
   "id": "56a21cbf",
   "metadata": {},
   "outputs": [],
   "source": [
    "# this is just a comment\n",
    "aa = 22.5"
   ]
  },
  {
   "cell_type": "code",
   "execution_count": null,
   "id": "4c54242a",
   "metadata": {},
   "outputs": [],
   "source": []
  }
 ],
 "metadata": {
  "kernelspec": {
   "display_name": "Python 3 (ipykernel)",
   "language": "python",
   "name": "python3"
  },
  "language_info": {
   "codemirror_mode": {
    "name": "ipython",
    "version": 3
   },
   "file_extension": ".py",
   "mimetype": "text/x-python",
   "name": "python",
   "nbconvert_exporter": "python",
   "pygments_lexer": "ipython3",
   "version": "3.9.6"
  }
 },
 "nbformat": 4,
 "nbformat_minor": 5
}
